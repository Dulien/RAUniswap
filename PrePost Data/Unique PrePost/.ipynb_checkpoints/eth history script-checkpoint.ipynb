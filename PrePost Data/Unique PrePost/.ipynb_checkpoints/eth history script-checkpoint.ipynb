{
 "cells": [
  {
   "cell_type": "code",
   "execution_count": 1,
   "id": "9a67960b",
   "metadata": {},
   "outputs": [],
   "source": [
    "import requests\n",
    "import pandas\n",
    "import json\n",
    "\n",
    "\n",
    "def run_query(query):  # A simple function to use requests.post to make the API call.\n",
    "    headers = {'X-API-KEY': 'BQYdfA9yMkZqesqsq8N1RUwHXQMdrqiD'}\n",
    "    request = requests.post('https://graphql.bitquery.io/',\n",
    "                            json={'query': query}, headers=headers)\n",
    "    if request.status_code == 200:\n",
    "        return request.json()\n",
    "    else:\n",
    "        raise Exception('Query failed and return code is {}.      {}'.format(request.status_code,\n",
    "                        query))"
   ]
  },
  {
   "cell_type": "code",
   "execution_count": null,
   "id": "55446f1f",
   "metadata": {},
   "outputs": [],
   "source": [
    "import csv\n",
    "import time import pandas as pd\n",
    "\n",
    "df = pd.DataFrame(columns=['address', 'date']) i = 0\n",
    "\n",
    "with open('Unique_prepost_post_TEST.csv', 'r') as file: reader = csv.reader(file) for address in reader:\n",
    "\n",
    "    print(str(i)+\"/\"+\"77855\"+\" --- \"+str((i/77855)*100)+\"%\")\n",
    "    if (i%1000)==0:\n",
    "        print(\"Saving...\")\n",
    "        df.to_csv(\"out.csv\", encoding='utf-8', index=False)\n",
    "\n",
    "    query = \"\"\"\n",
    "    {{\n",
    "      ethereum(network: ethereum) {{\n",
    "        dexTrades(\n",
    "          exchangeName: {{is: \"Uniswap\"}}\n",
    "          txSender: {{is: \"{user}\"}}\n",
    "          options: {{limit: 1}}\n",
    "\n",
    "        ) {{\n",
    "          transaction {{\n",
    "            txFrom {{\n",
    "              address\n",
    "            }}\n",
    "          }}\n",
    "          date {{\n",
    "            date(format: \"%y-%m-%d\")\n",
    "          }}\n",
    "        }}\n",
    "      }}\n",
    "    }}\"\"\".format(user=address[1])\n",
    "\n",
    "    result = run_query(query)  # Execute the query\n",
    "\n",
    "    try:\n",
    "        address = result['data']['ethereum']['dexTrades'][0]['transaction']['txFrom'][\"address\"]\n",
    "        date = result['data']['ethereum']['dexTrades'][0]['date']['date']\n",
    "        df.loc[i] = [address] + [date]\n",
    "    except:\n",
    "        print(\"File skipped\")\n",
    "        time.sleep(5)\n",
    "\n",
    "    i+=1\n",
    "    time.sleep(0.2)"
   ]
  }
 ],
 "metadata": {
  "kernelspec": {
   "display_name": "Python 3 (ipykernel)",
   "language": "python",
   "name": "python3"
  },
  "language_info": {
   "codemirror_mode": {
    "name": "ipython",
    "version": 3
   },
   "file_extension": ".py",
   "mimetype": "text/x-python",
   "name": "python",
   "nbconvert_exporter": "python",
   "pygments_lexer": "ipython3",
   "version": "3.7.9"
  }
 },
 "nbformat": 4,
 "nbformat_minor": 5
}
