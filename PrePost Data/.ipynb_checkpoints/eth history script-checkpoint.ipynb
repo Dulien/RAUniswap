{
 "cells": [
  {
   "cell_type": "code",
   "execution_count": 1,
   "id": "9a67960b",
   "metadata": {},
   "outputs": [],
   "source": [
    "import requests\n",
    "import pandas\n",
    "import json\n",
    "\n",
    "\n",
    "def run_query(query):  # A simple function to use requests.post to make the API call.\n",
    "    headers = {'X-API-KEY': 'BQYdfA9yMkZqesqsq8N1RUwHXQMdrqiD'}\n",
    "    request = requests.post('https://graphql.bitquery.io/',\n",
    "                            json={'query': query}, headers=headers)\n",
    "    if request.status_code == 200:\n",
    "        return request.json()\n",
    "    else:\n",
    "        raise Exception('Query failed and return code is {}.      {}'.format(request.status_code,\n",
    "                        query))"
   ]
  },
  {
   "cell_type": "code",
   "execution_count": 5,
   "id": "649d0f0e",
   "metadata": {},
   "outputs": [
    {
     "name": "stdout",
     "output_type": "stream",
     "text": [
      "File skipped\n",
      "File skipped\n",
      "File skipped\n",
      "File skipped\n",
      "File skipped\n",
      "File skipped\n",
      "File skipped\n",
      "File skipped\n",
      "File skipped\n",
      "File skipped\n",
      "File skipped\n",
      "File skipped\n",
      "File skipped\n",
      "File skipped\n",
      "File skipped\n",
      "File skipped\n"
     ]
    }
   ],
   "source": [
    "import csv\n",
    "import time\n",
    "\n",
    "with open('V3-Voters.csv', 'r') as file:\n",
    "    reader = csv.reader(file)\n",
    "    for address in reader:\n",
    "        query = \"\"\"\n",
    "        {{\n",
    "          ethereum {{\n",
    "            address(address: {{is: \"{user}\"}}) {{\n",
    "              balances (\n",
    "                currency: {{is: \"UNI\"}}\n",
    "                date: {{till: \"2022-05-01\"}}\n",
    "              ) {{\n",
    "                history {{\n",
    "                  value\n",
    "                  timestamp\n",
    "                }}\n",
    "              }}\n",
    "            }}\n",
    "          }}\n",
    "        }}\"\"\".format(user=address[1])\n",
    "\n",
    "        result = run_query(query)  # Execute the query\n",
    "\n",
    "        try:\n",
    "            result = result['data']['ethereum']['address'][0]['balances'][0]['history']\n",
    "            with open('data_'+address[1]+'.json', 'w') as json_file:\n",
    "                json.dump(result, json_file)\n",
    "        except:\n",
    "            print(\"File skipped\")\n",
    "        \n",
    "        time.sleep(0.5)\n",
    "        \n",
    "        #df = pandas.read_json('data_'+address[1]+'.json')"
   ]
  },
  {
   "cell_type": "code",
   "execution_count": null,
   "id": "6a946716",
   "metadata": {},
   "outputs": [
    {
     "name": "stdout",
     "output_type": "stream",
     "text": [
      "File skipped\n",
      "File skipped\n"
     ]
    }
   ],
   "source": [
    "import requests\n",
    "import pandas\n",
    "import json\n",
    "import csv\n",
    "import time\n",
    "\n",
    "def run_query(query):  # A simple function to use requests.post to make the API call.\n",
    "    headers = {'X-API-KEY': 'BQYdfA9yMkZqesqsq8N1RUwHXQMdrqiD'}\n",
    "    request = requests.post('https://graphql.bitquery.io/',\n",
    "                            json={'query': query}, headers=headers)\n",
    "    if request.status_code == 200:\n",
    "        return request.json()\n",
    "    else:\n",
    "        raise Exception('Query failed and return code is {}.      {}'.format(request.status_code,\n",
    "                        query))\n",
    "\n",
    "\n",
    "\n",
    "with open('PRE-Addresses.csv', 'r') as file:\n",
    "    reader = csv.reader(file)\n",
    "    for address in reader:\n",
    "        query = \"\"\"\n",
    "        {{\n",
    "          ethereum {{\n",
    "            address(address: {{is: \"{user}\"}}) {{\n",
    "              balances (\n",
    "                currency: {{is: \"UNI\"}}\n",
    "                date: {{till: \"2022-05-01\"}}\n",
    "              ) {{\n",
    "                history {{\n",
    "                  value\n",
    "                  timestamp\n",
    "                }}\n",
    "              }}\n",
    "            }}\n",
    "          }}\n",
    "        }}\"\"\".format(user=address[0])\n",
    "\n",
    "        try:\n",
    "            result = run_query(query)  # Execute the query\n",
    "        except:\n",
    "            time.sleep(1)\n",
    "\n",
    "        try:\n",
    "            result = result['data']['ethereum']['address'][0]['balances'][0]['history']\n",
    "            with open('data_'+address[0]+'.json', 'w') as json_file:\n",
    "                json.dump(result, json_file)\n",
    "        except:\n",
    "            print(\"File skipped\")\n",
    "        \n",
    "        time.sleep(0.25)"
   ]
  },
  {
   "cell_type": "code",
   "execution_count": null,
   "id": "717e3baf",
   "metadata": {},
   "outputs": [],
   "source": []
  }
 ],
 "metadata": {
  "kernelspec": {
   "display_name": "Python 3 (ipykernel)",
   "language": "python",
   "name": "python3"
  },
  "language_info": {
   "codemirror_mode": {
    "name": "ipython",
    "version": 3
   },
   "file_extension": ".py",
   "mimetype": "text/x-python",
   "name": "python",
   "nbconvert_exporter": "python",
   "pygments_lexer": "ipython3",
   "version": "3.7.9"
  }
 },
 "nbformat": 4,
 "nbformat_minor": 5
}
