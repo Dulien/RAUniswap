{
 "cells": [
  {
   "cell_type": "code",
   "execution_count": 18,
   "id": "a71d50eb",
   "metadata": {},
   "outputs": [],
   "source": [
    "from duneanalytics import DuneAnalytics\n",
    "import pandas as pd\n",
    "\n",
    "# initialize client\n",
    "dune = DuneAnalytics('dulien', '')\n",
    "\n",
    "# try to login\n",
    "dune.login()\n",
    "\n",
    "# fetch token\n",
    "dune.fetch_auth_token()"
   ]
  },
  {
   "cell_type": "code",
   "execution_count": 19,
   "id": "3c66968b",
   "metadata": {},
   "outputs": [],
   "source": [
    "result_id = dune.query_result_id(query_id=1087778)\n",
    "data = dune.query_result(result_id)"
   ]
  },
  {
   "cell_type": "code",
   "execution_count": 9,
   "id": "e6f1c2f5",
   "metadata": {},
   "outputs": [
    {
     "name": "stderr",
     "output_type": "stream",
     "text": [
      "IOPub data rate exceeded.\n",
      "The notebook server will temporarily stop sending output\n",
      "to the client in order to avoid crashing it.\n",
      "To change this limit, set the config variable\n",
      "`--NotebookApp.iopub_data_rate_limit`.\n",
      "\n",
      "Current values:\n",
      "NotebookApp.iopub_data_rate_limit=1000000.0 (bytes/sec)\n",
      "NotebookApp.rate_limit_window=3.0 (secs)\n",
      "\n"
     ]
    }
   ],
   "source": [
    "print(data[\"data\"][\"get_result_by_result_id\"])"
   ]
  },
  {
   "cell_type": "code",
   "execution_count": null,
   "id": "3d57fcc5",
   "metadata": {},
   "outputs": [],
   "source": [
    "for val in data[\"data\"][\"get_result_by_result_id\"]:\n",
    "    print(val[\"data\"])"
   ]
  },
  {
   "cell_type": "code",
   "execution_count": 20,
   "id": "7fab1754",
   "metadata": {},
   "outputs": [],
   "source": [
    "import json\n",
    "df = pd.DataFrame(columns=['remove liquidity count','to','most recent aug-dec'])\n",
    "\n",
    "for val in data[\"data\"][\"get_result_by_result_id\"]:\n",
    "    df = df.append(val[\"data\"], ignore_index=True)"
   ]
  },
  {
   "cell_type": "code",
   "execution_count": 7,
   "id": "21228df3",
   "metadata": {},
   "outputs": [
    {
     "data": {
      "text/html": [
       "<div>\n",
       "<style scoped>\n",
       "    .dataframe tbody tr th:only-of-type {\n",
       "        vertical-align: middle;\n",
       "    }\n",
       "\n",
       "    .dataframe tbody tr th {\n",
       "        vertical-align: top;\n",
       "    }\n",
       "\n",
       "    .dataframe thead th {\n",
       "        text-align: right;\n",
       "    }\n",
       "</style>\n",
       "<table border=\"1\" class=\"dataframe\">\n",
       "  <thead>\n",
       "    <tr style=\"text-align: right;\">\n",
       "      <th></th>\n",
       "    </tr>\n",
       "  </thead>\n",
       "  <tbody>\n",
       "  </tbody>\n",
       "</table>\n",
       "</div>"
      ],
      "text/plain": [
       "Empty DataFrame\n",
       "Columns: []\n",
       "Index: []"
      ]
     },
     "metadata": {},
     "output_type": "display_data"
    }
   ],
   "source": [
    "display(df)"
   ]
  },
  {
   "cell_type": "code",
   "execution_count": 21,
   "id": "146959cd",
   "metadata": {},
   "outputs": [],
   "source": [
    "df.to_csv(\"remove_liquidity.csv\")"
   ]
  },
  {
   "cell_type": "code",
   "execution_count": null,
   "id": "7c57a077",
   "metadata": {},
   "outputs": [],
   "source": []
  }
 ],
 "metadata": {
  "kernelspec": {
   "display_name": "Python 3 (ipykernel)",
   "language": "python",
   "name": "python3"
  },
  "language_info": {
   "codemirror_mode": {
    "name": "ipython",
    "version": 3
   },
   "file_extension": ".py",
   "mimetype": "text/x-python",
   "name": "python",
   "nbconvert_exporter": "python",
   "pygments_lexer": "ipython3",
   "version": "3.7.9"
  }
 },
 "nbformat": 4,
 "nbformat_minor": 5
}
