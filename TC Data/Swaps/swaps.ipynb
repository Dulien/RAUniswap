{
 "cells": [
  {
   "cell_type": "code",
   "execution_count": 1,
   "id": "a71d50eb",
   "metadata": {},
   "outputs": [],
   "source": [
    "from duneanalytics import DuneAnalytics\n",
    "import pandas as pd\n",
    "\n",
    "# initialize client\n",
    "dune = DuneAnalytics('dulien', '')\n",
    "\n",
    "# try to login\n",
    "dune.login()\n",
    "\n",
    "# fetch token\n",
    "dune.fetch_auth_token()"
   ]
  },
  {
   "cell_type": "code",
   "execution_count": 2,
   "id": "3c66968b",
   "metadata": {},
   "outputs": [],
   "source": [
    "result_id = dune.query_result_id(query_id=1196943)\n",
    "data = dune.query_result(result_id)"
   ]
  },
  {
   "cell_type": "code",
   "execution_count": 3,
   "id": "3d57fcc5",
   "metadata": {},
   "outputs": [],
   "source": [
    "l = []\n",
    "\n",
    "for val in data[\"data\"][\"get_result_by_result_id\"]:\n",
    "    l.append(val[\"data\"])"
   ]
  },
  {
   "cell_type": "code",
   "execution_count": 4,
   "id": "7fab1754",
   "metadata": {},
   "outputs": [],
   "source": [
    "df = pd.DataFrame(l)"
   ]
  },
  {
   "cell_type": "code",
   "execution_count": 5,
   "id": "146959cd",
   "metadata": {},
   "outputs": [],
   "source": [
    "df.to_csv(\"AUG25-DEC31.csv\")"
   ]
  },
  {
   "cell_type": "code",
   "execution_count": null,
   "id": "25db0e0a",
   "metadata": {},
   "outputs": [],
   "source": []
  }
 ],
 "metadata": {
  "kernelspec": {
   "display_name": "Python 3 (ipykernel)",
   "language": "python",
   "name": "python3"
  },
  "language_info": {
   "codemirror_mode": {
    "name": "ipython",
    "version": 3
   },
   "file_extension": ".py",
   "mimetype": "text/x-python",
   "name": "python",
   "nbconvert_exporter": "python",
   "pygments_lexer": "ipython3",
   "version": "3.7.9"
  }
 },
 "nbformat": 4,
 "nbformat_minor": 5
}
