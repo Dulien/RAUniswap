{
 "cells": [
  {
   "cell_type": "code",
   "execution_count": 1,
   "id": "ca3394a3",
   "metadata": {
    "scrolled": true
   },
   "outputs": [],
   "source": [
    "import requests\n",
    "import pandas\n",
    "import json\n",
    "\n",
    "\n",
    "def run_query(query):  # A simple function to use requests.post to make the API call.\n",
    "    headers = {'X-API-KEY': 'BQYdfA9yMkZqesqsq8N1RUwHXQMdrqiD'}\n",
    "    request = requests.post('https://graphql.bitquery.io/',\n",
    "                            json={'query': query}, headers=headers)\n",
    "    if request.status_code == 200:\n",
    "        return request.json()\n",
    "    else:\n",
    "        raise Exception('Query failed and return code is {}.      {}'.format(request.status_code,\n",
    "                        query))\n"
   ]
  },
  {
   "cell_type": "code",
   "execution_count": 12,
   "id": "efb7eac8",
   "metadata": {},
   "outputs": [
    {
     "name": "stdout",
     "output_type": "stream",
     "text": [
      "File skipped\n",
      "File skipped\n",
      "File skipped\n",
      "File skipped\n",
      "File skipped\n",
      "File skipped\n",
      "File skipped\n",
      "File skipped\n",
      "File skipped\n",
      "File skipped\n",
      "File skipped\n",
      "File skipped\n",
      "File skipped\n",
      "File skipped\n",
      "File skipped\n",
      "File skipped\n",
      "File skipped\n",
      "File skipped\n",
      "File skipped\n",
      "File skipped\n",
      "File skipped\n",
      "File skipped\n",
      "File skipped\n",
      "File skipped\n",
      "File skipped\n",
      "File skipped\n",
      "File skipped\n",
      "File skipped\n",
      "File skipped\n",
      "File skipped\n",
      "File skipped\n",
      "File skipped\n",
      "File skipped\n",
      "File skipped\n",
      "File skipped\n",
      "File skipped\n",
      "File skipped\n",
      "File skipped\n",
      "File skipped\n",
      "File skipped\n",
      "File skipped\n",
      "File skipped\n",
      "File skipped\n",
      "File skipped\n",
      "File skipped\n",
      "File skipped\n",
      "File skipped\n",
      "File skipped\n",
      "File skipped\n",
      "File skipped\n",
      "File skipped\n",
      "File skipped\n",
      "File skipped\n",
      "File skipped\n",
      "File skipped\n",
      "File skipped\n",
      "File skipped\n",
      "File skipped\n",
      "File skipped\n",
      "File skipped\n",
      "File skipped\n",
      "File skipped\n",
      "File skipped\n",
      "File skipped\n",
      "File skipped\n",
      "File skipped\n",
      "File skipped\n",
      "File skipped\n",
      "File skipped\n",
      "File skipped\n",
      "File skipped\n",
      "File skipped\n",
      "File skipped\n",
      "File skipped\n",
      "File skipped\n",
      "File skipped\n"
     ]
    }
   ],
   "source": [
    "import csv\n",
    "import time\n",
    "\n",
    "with open('V3-voters.csv', 'r') as file:\n",
    "    reader = csv.reader(file)\n",
    "    for address in reader:\n",
    "        query = \"\"\"\n",
    "        {{\n",
    "          ethereum {{\n",
    "            address(address: {{is: \"{user}\"}}) {{\n",
    "              balances (\n",
    "                currency: {{is: \"0x1f9840a85d5aF5bf1D1762F925BDADdC4201F984\"}}\n",
    "                date: {{till: \"2022-05-01\"}}\n",
    "              ) {{\n",
    "                history {{\n",
    "                  value\n",
    "                  timestamp\n",
    "                }}\n",
    "              }}\n",
    "            }}\n",
    "          }}\n",
    "        }}\"\"\".format(user=address[1])\n",
    "\n",
    "        result = run_query(query)  # Execute the query\n",
    "\n",
    "        try:\n",
    "            result = result['data']['ethereum']['address'][0]['balances'][0]['history']\n",
    "            with open('data_'+address[1]+'.json', 'w') as json_file:\n",
    "                json.dump(result, json_file)\n",
    "        except:\n",
    "            print(\"File skipped\")\n",
    "        time.sleep(0.25)\n",
    "        \n",
    "        #df = pandas.read_json('data_'+address[1]+'.json')\n",
    "        "
   ]
  },
  {
   "cell_type": "code",
   "execution_count": 11,
   "id": "5dfde939",
   "metadata": {},
   "outputs": [
    {
     "name": "stdout",
     "output_type": "stream",
     "text": [
      "{'data': {'ethereum': {'address': [{'balances': [{'history': [{'value': 401.078083, 'timestamp': '2020-09-17T22:25:54+00:00'}, {'value': 201.078083, 'timestamp': '2020-09-17T23:48:05+00:00'}, {'value': 150.078083, 'timestamp': '2020-09-18T19:15:10+00:00'}, {'value': 100.12893222795336, 'timestamp': '2020-10-14T02:15:47+00:00'}, {'value': 153.07877132689188, 'timestamp': '2020-10-16T04:29:15+00:00'}, {'value': 100.07877132689188, 'timestamp': '2020-11-14T21:27:20+00:00'}, {'value': 50.07877132689188, 'timestamp': '2020-11-21T22:35:35+00:00'}, {'value': 111.64125426702375, 'timestamp': '2020-12-04T05:12:58+00:00'}, {'value': 11.641254267023754, 'timestamp': '2020-12-04T05:22:17+00:00'}, {'value': -1.4210854715202004e-14, 'timestamp': '2020-12-04T05:27:57+00:00'}, {'value': 4.999999999999986, 'timestamp': '2020-12-23T02:36:37+00:00'}, {'value': -1.4210854715202004e-14, 'timestamp': '2020-12-23T02:39:23+00:00'}, {'value': 14.999999999999986, 'timestamp': '2021-04-27T02:22:54+00:00'}, {'value': -1.4210854715202004e-14, 'timestamp': '2021-04-30T05:15:57+00:00'}, {'value': 74.99999999999999, 'timestamp': '2021-05-04T21:32:26+00:00'}, {'value': 0.13997721532042817, 'timestamp': '2021-05-04T21:36:28+00:00'}, {'value': 67.89660834922807, 'timestamp': '2021-05-13T19:46:19+00:00'}, {'value': -1.4210854715202004e-14, 'timestamp': '2021-05-22T16:50:20+00:00'}, {'value': 31.706589522285494, 'timestamp': '2021-05-24T01:55:06+00:00'}, {'value': 11.706589522285494, 'timestamp': '2021-05-24T02:03:19+00:00'}, {'value': 11.715688535874534, 'timestamp': '2021-05-26T20:29:48+00:00'}, {'value': -1.4210854715202004e-14, 'timestamp': '2021-05-26T22:53:09+00:00'}, {'value': 19.999999999999986, 'timestamp': '2021-07-07T05:38:01+00:00'}, {'value': -1.4210854715202004e-14, 'timestamp': '2021-07-07T06:26:45+00:00'}, {'value': 80.00660834922807, 'timestamp': '2021-10-10T19:58:21+00:00'}, {'value': -1.4210854715202004e-14, 'timestamp': '2021-10-10T20:13:12+00:00'}]}]}]}}}\n"
     ]
    }
   ],
   "source": [
    "print(result)"
   ]
  },
  {
   "cell_type": "code",
   "execution_count": null,
   "id": "61302755",
   "metadata": {},
   "outputs": [],
   "source": []
  }
 ],
 "metadata": {
  "kernelspec": {
   "display_name": "Python 3 (ipykernel)",
   "language": "python",
   "name": "python3"
  },
  "language_info": {
   "codemirror_mode": {
    "name": "ipython",
    "version": 3
   },
   "file_extension": ".py",
   "mimetype": "text/x-python",
   "name": "python",
   "nbconvert_exporter": "python",
   "pygments_lexer": "ipython3",
   "version": "3.7.9"
  }
 },
 "nbformat": 4,
 "nbformat_minor": 5
}
