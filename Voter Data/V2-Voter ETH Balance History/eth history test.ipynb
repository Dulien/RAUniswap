{
 "cells": [
  {
   "cell_type": "code",
   "execution_count": 20,
   "id": "ca3394a3",
   "metadata": {
    "scrolled": true
   },
   "outputs": [],
   "source": [
    "import requests\n",
    "import pandas\n",
    "import json\n",
    "\n",
    "\n",
    "def run_query(query):  # A simple function to use requests.post to make the API call.\n",
    "    headers = {'X-API-KEY': 'BQYdfA9yMkZqesqsq8N1RUwHXQMdrqiD'}\n",
    "    request = requests.post('https://graphql.bitquery.io/',\n",
    "                            json={'query': query}, headers=headers)\n",
    "    if request.status_code == 200:\n",
    "        return request.json()\n",
    "    else:\n",
    "        raise Exception('Query failed and return code is {}.      {}'.format(request.status_code,\n",
    "                        query))\n"
   ]
  },
  {
   "cell_type": "code",
   "execution_count": 24,
   "id": "efb7eac8",
   "metadata": {},
   "outputs": [
    {
     "name": "stdout",
     "output_type": "stream",
     "text": [
      "File skipped\n",
      "File skipped\n",
      "File skipped\n",
      "File skipped\n",
      "File skipped\n"
     ]
    }
   ],
   "source": [
    "import csv\n",
    "with open('v2-voters.csv', 'r') as file:\n",
    "    reader = csv.reader(file)\n",
    "    for address in reader:\n",
    "        query = \"\"\"\n",
    "        {{\n",
    "          ethereum {{\n",
    "            address(address: {{is: \"{user}\"}}) {{\n",
    "              balances (\n",
    "                currency: {{is: \"ETH\"}}\n",
    "                date: {{till: \"2022-05-01\"}}\n",
    "              ) {{\n",
    "                history {{\n",
    "                  value\n",
    "                  timestamp\n",
    "                }}\n",
    "              }}\n",
    "            }}\n",
    "          }}\n",
    "        }}\"\"\".format(user=address[1])\n",
    "\n",
    "        result = run_query(query)  # Execute the query\n",
    "\n",
    "        try:\n",
    "            result = result['data']['ethereum']['address'][0]['balances'][0]['history']\n",
    "            with open('data_'+address[1]+'.json', 'w') as json_file:\n",
    "                json.dump(result, json_file)\n",
    "        except:\n",
    "            print(\"File skipped\")\n",
    "        sleep\n",
    "        \n",
    "        #df = pandas.read_json('data_'+address[1]+'.json')\n",
    "        "
   ]
  },
  {
   "cell_type": "code",
   "execution_count": null,
   "id": "ff894904",
   "metadata": {},
   "outputs": [],
   "source": []
  }
 ],
 "metadata": {
  "kernelspec": {
   "display_name": "Python 3 (ipykernel)",
   "language": "python",
   "name": "python3"
  },
  "language_info": {
   "codemirror_mode": {
    "name": "ipython",
    "version": 3
   },
   "file_extension": ".py",
   "mimetype": "text/x-python",
   "name": "python",
   "nbconvert_exporter": "python",
   "pygments_lexer": "ipython3",
   "version": "3.7.9"
  }
 },
 "nbformat": 4,
 "nbformat_minor": 5
}
