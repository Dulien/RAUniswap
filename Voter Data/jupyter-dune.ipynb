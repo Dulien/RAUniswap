{
 "cells": [
  {
   "cell_type": "code",
   "execution_count": 1,
   "id": "a71d50eb",
   "metadata": {},
   "outputs": [],
   "source": [
    "from duneanalytics import DuneAnalytics\n",
    "import pandas\n",
    "\n",
    "# initialize client\n",
    "dune = DuneAnalytics('dulien', 'temp1234')\n",
    "\n",
    "# try to login\n",
    "dune.login()\n",
    "\n",
    "# fetch token\n",
    "dune.fetch_auth_token()"
   ]
  },
  {
   "cell_type": "code",
   "execution_count": null,
   "id": "f9dd82bd",
   "metadata": {},
   "outputs": [],
   "source": [
    "#import json\n",
    "\n",
    "#pd.io.json._json.loads = lambda s, *a, **kw: json.loads(s)\n",
    "\n",
    "# monkeypatch using faster simplejson module\n",
    "#import simplejson\n",
    "#pd.io.json._json.loads = lambda s, *a, **kw: simplejson.loads(s)\n",
    "\n",
    "# normalising (unnesting) at the same time (for nested jsons)\n",
    "#pd.io.json._json.loads = lambda s, *a, **kw: pandas.json_normalize(simplejson.loads(s))"
   ]
  },
  {
   "cell_type": "code",
   "execution_count": 4,
   "id": "3c66968b",
   "metadata": {},
   "outputs": [],
   "source": [
    "result_id = dune.query_result_id(query_id=968082)\n",
    "data = dune.query_result(result_id)"
   ]
  },
  {
   "cell_type": "code",
   "execution_count": 5,
   "id": "1c71aff4",
   "metadata": {},
   "outputs": [
    {
     "name": "stdout",
     "output_type": "stream",
     "text": [
      "[]\n"
     ]
    }
   ],
   "source": [
    "print(data['data']['get_result_by_result_id'])"
   ]
  },
  {
   "cell_type": "code",
   "execution_count": 4,
   "id": "192a143b",
   "metadata": {},
   "outputs": [],
   "source": [
    "import json\n",
    "\n",
    "with open('V3-AllVotes.json', 'w') as fp:\n",
    "    json.dump(data['data']['get_result_by_result_id'], fp,  indent=4)"
   ]
  },
  {
   "cell_type": "code",
   "execution_count": null,
   "id": "1647a73a",
   "metadata": {},
   "outputs": [],
   "source": [
    "display(dataframe)"
   ]
  },
  {
   "cell_type": "code",
   "execution_count": null,
   "id": "193157e1",
   "metadata": {},
   "outputs": [],
   "source": [
    "voterdf = dataframe.drop(columns=[\"data.contract_address\",\"data.evt_block_number\",\"data.evt_block_time\",\n",
    "                                 \"data.evt_index\",\"data.evt_tx_hash\",\"data.proposalId\",\"data.support\",\"data.votes\",\"__typename\"])"
   ]
  },
  {
   "cell_type": "code",
   "execution_count": null,
   "id": "3851340f",
   "metadata": {},
   "outputs": [],
   "source": [
    "display(voterdf)"
   ]
  },
  {
   "cell_type": "code",
   "execution_count": null,
   "id": "dc613fe8",
   "metadata": {},
   "outputs": [],
   "source": [
    "voterdf.drop_duplicates"
   ]
  },
  {
   "cell_type": "code",
   "execution_count": null,
   "id": "2522043d",
   "metadata": {},
   "outputs": [],
   "source": [
    "display(voterdf)"
   ]
  },
  {
   "cell_type": "code",
   "execution_count": null,
   "id": "ad2ae36f",
   "metadata": {},
   "outputs": [],
   "source": [
    "voterdf.to_csv()"
   ]
  },
  {
   "cell_type": "code",
   "execution_count": null,
   "id": "849cc26b",
   "metadata": {},
   "outputs": [],
   "source": []
  }
 ],
 "metadata": {
  "kernelspec": {
   "display_name": "Python 3 (ipykernel)",
   "language": "python",
   "name": "python3"
  },
  "language_info": {
   "codemirror_mode": {
    "name": "ipython",
    "version": 3
   },
   "file_extension": ".py",
   "mimetype": "text/x-python",
   "name": "python",
   "nbconvert_exporter": "python",
   "pygments_lexer": "ipython3",
   "version": "3.7.9"
  }
 },
 "nbformat": 4,
 "nbformat_minor": 5
}
